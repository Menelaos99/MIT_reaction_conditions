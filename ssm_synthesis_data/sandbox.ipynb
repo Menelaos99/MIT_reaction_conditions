{
 "cells": [
  {
   "cell_type": "code",
   "execution_count": 14,
   "metadata": {},
   "outputs": [],
   "source": [
    "import pandas as pd\n",
    "import numpy as np\n",
    "import json\n",
    "from utils.classes import *\n",
    "from utils.exclude import *\n",
    "\n",
    "filename = r'data/solid-state_dataset_20200713.json'\n",
    "filedata = open(filename, mode='r').read()\n",
    "jsonParse = json.loads(filedata)\n",
    "\n",
    "# import glob\n",
    "# # Define the path to the folder containing the CSV files\n",
    "# folder_path = 'sinter_dataset/*.csv'\n",
    "\n",
    "# # Use glob to match all csv file paths in the folder\n",
    "# csv_files = glob.glob(folder_path)\n",
    "\n",
    "# # Initialize an empty list to store dataframes\n",
    "# dfs = []\n",
    "\n",
    "# # Loop through the list of csv file paths\n",
    "# for file in csv_files:\n",
    "#     # Read the current csv file into a dataframe\n",
    "#     df = pd.read_csv(file)\n",
    "#     # Append the dataframe to the list of dataframes\n",
    "#     dfs.append(df)\n",
    "\n",
    "# # Concatenate all dataframes in the list into a single dataframe\n",
    "# merged_df = pd.concat(dfs, ignore_index=True)\n",
    "# merged_df = merged_df.groupby('formula').agg(lambda x: list(set(x))).reset_index()\n",
    "# merged_df = merged_df.drop(columns=['Unnamed: 0'])\n",
    "# merged_df.set_index('formula', inplace=True)\n",
    "# # Display the merged dataframe\n",
    "# print(merged_df)\n",
    "\n",
    "reactions = [from_dict(reaction, ReactionEntry) for reaction in jsonParse['reactions']]"
   ]
  },
  {
   "cell_type": "code",
   "execution_count": null,
   "metadata": {},
   "outputs": [],
   "source": [
    "'''\n",
    "Things the original code filter had that I don't think should exist:\n",
    "1.  -0.667 (NH4)3C3H5O(COO)3 + 2 FeC2O4·2H2O + 2 NH3 + 1 SiO2 == 1 Fe2SiO4 + 1.333 H2O + 2 O2\n",
    "    This is outlier code: -0.667 as formula part multiplicity?\n",
    "2.  0.333 Co3O4 + 0.5-0.5*x Nd2O3 + 0.083+0.25*x O2 + x SrCO3 == 1 Nd1-xSrxCoO3 + x CO2; 1 CuO + 1-x La2O3 + 0.5*x O2 + 2*x SrCO3 == 1 (La1-xSrx)2CuO4 + 2*x CO2 and many\n",
    "    This isn't allowed, right? But this is as part of good list\n",
    "'''"
   ]
  },
  {
   "cell_type": "code",
   "execution_count": 7,
   "metadata": {},
   "outputs": [],
   "source": [
    "import json\n",
    "\n",
    "# Define the list of bad elements/formulas\n",
    "bad_list = ['*', '-', 'x', '+', '/', 'ac', '(2N)', '(3N)', '(4N)', '(5N)', '(6N)', '7LiOH', '2Ni(OH)2']\n",
    "\n",
    "# Load solid-state dataset\n",
    "with open('data/solid-state_dataset_20200713.json') as f:\n",
    "    ss_data = json.load(f)\n",
    "\n",
    "# Extract reactions from dataset\n",
    "reactions = ss_data[\"reactions\"]\n",
    "\n",
    "# Minimum number of precursors\n",
    "min_pre = 2\n",
    "\n",
    "# Initialize filtered reactions list\n",
    "filtered_reactions = []\n",
    "\n",
    "# Filter reactions based on specified criteria\n",
    "for rxn in reactions:\n",
    "    if rxn[\"doi\"] in BAD_DOI:\n",
    "        continue\n",
    "    if len(rxn[\"precursors\"]) < min_pre:\n",
    "        continue\n",
    "    if any(rxn[\"targets_string\"][x] in BAD_TARGETS for x in range(len(rxn[\"targets_string\"]))):\n",
    "        continue\n",
    "    if any(rxn[\"precursors\"][x][\"material_formula\"] in BAD_PRECURSORS for x in range(len(rxn[\"precursors\"]))):\n",
    "        continue\n",
    "    \n",
    "    found_bad = False\n",
    "    for bad in bad_list:\n",
    "        if any(bad in rxn[\"targets_string\"][x] for x in range(len(rxn[\"targets_string\"]))) or \\\n",
    "           any(bad in rxn[\"precursors\"][x][\"material_formula\"] for x in range(len(rxn[\"precursors\"]))):\n",
    "            # print(list(rxn[\"targets_string\"][x] for x in range(len(rxn[\"targets_string\"]))))\n",
    "            found_bad = True\n",
    "    \n",
    "    if found_bad:\n",
    "        continue\n",
    "    else:\n",
    "        filtered_reactions.append(rxn)\n",
    "\n",
    "# Convert filtered reactions to ReactionEntry objects\n",
    "reactions_m2 = [from_dict(reaction, ReactionEntry) for reaction in filtered_reactions]\n"
   ]
  },
  {
   "cell_type": "code",
   "execution_count": 15,
   "metadata": {},
   "outputs": [],
   "source": [
    "rxn_string = '1 CuO + 1-x La2O3 + 0.5*x O2 + 2*x SrCO3 == 1 (La1-xSrx)2CuO4 + 2*x CO2'\n",
    "x1 = [x for x in reactions if x.reaction_string == rxn_string][0]"
   ]
  },
  {
   "cell_type": "code",
   "execution_count": 16,
   "metadata": {},
   "outputs": [
    {
     "data": {
      "text/plain": [
       "[True, True, False, True]"
      ]
     },
     "execution_count": 16,
     "metadata": {},
     "output_type": "execute_result"
    }
   ],
   "source": [
    "import re\n",
    "[not bool(re.match(r'^-?\\d+(\\.\\d+)?$', s.amount)) for s in x1.reaction.left_side]"
   ]
  },
  {
   "cell_type": "code",
   "execution_count": 17,
   "metadata": {},
   "outputs": [
    {
     "data": {
      "text/plain": [
       "[Material(material_string='SrCO3', material_formula='SrCO3', material_name='', phase=None, is_acronym=False, composition=[Composition(formula='SrCO3', amount='1', elements={'Sr': '1', 'C': '1', 'O': '3'})], amount_vars={}, element_vars={}, additives=[], oxygen_deficiency=None),\n",
       " Material(material_string='La2O3', material_formula='La2O3', material_name='', phase=None, is_acronym=False, composition=[Composition(formula='La2O3', amount='1', elements={'La': '2', 'O': '3'})], amount_vars={}, element_vars={}, additives=[], oxygen_deficiency=None),\n",
       " Material(material_string='CuO', material_formula='CuO', material_name='', phase=None, is_acronym=False, composition=[Composition(formula='CuO', amount='1', elements={'Cu': '1', 'O': '1'})], amount_vars={}, element_vars={}, additives=[], oxygen_deficiency=None)]"
      ]
     },
     "execution_count": 17,
     "metadata": {},
     "output_type": "execute_result"
    }
   ],
   "source": [
    "x1.precursors"
   ]
  },
  {
   "cell_type": "code",
   "execution_count": 18,
   "metadata": {},
   "outputs": [
    {
     "data": {
      "text/plain": [
       "[Material(material_string='SrCO3', material_formula='SrCO3', material_name='', phase=None, is_acronym=False, composition=[Composition(formula='SrCO3', amount='1', elements={'Sr': '1', 'C': '1', 'O': '3'})], amount_vars={}, element_vars={}, additives=[], oxygen_deficiency=None),\n",
       " Material(material_string='La2O3', material_formula='La2O3', material_name='', phase=None, is_acronym=False, composition=[Composition(formula='La2O3', amount='1', elements={'La': '2', 'O': '3'})], amount_vars={}, element_vars={}, additives=[], oxygen_deficiency=None),\n",
       " Material(material_string='CuO', material_formula='CuO', material_name='', phase=None, is_acronym=False, composition=[Composition(formula='CuO', amount='1', elements={'Cu': '1', 'O': '1'})], amount_vars={}, element_vars={}, additives=[], oxygen_deficiency=None)]"
      ]
     },
     "execution_count": 18,
     "metadata": {},
     "output_type": "execute_result"
    }
   ],
   "source": [
    "x1.precursors"
   ]
  },
  {
   "cell_type": "code",
   "execution_count": 19,
   "metadata": {},
   "outputs": [],
   "source": [
    "def RemoveBadEntries(reactions: list,\n",
    "                        min_precursors = 2,\n",
    "                        remove_bad_doi = True,\n",
    "                        remove_bad_target = True,\n",
    "                        remove_bad_precursor = True, \n",
    "                        remove_duplicates_via_doi = True,\n",
    "                        remove_invalid_coefficients_multiplicities = True,\n",
    "                        use_bad_list = True,\n",
    "                        remove_negative_coefficients = True, \n",
    "                        verbose_output = True):\n",
    "    filtered_reactions = []\n",
    "    bad_list = ['*', '-', 'x', '+', '/', 'ac', '(2N)', '(3N)', '(4N)', '(5N)', '(6N)', '7LiOH', '2Ni(OH)2']\n",
    "    isDigitRegex = re.compile(r'^-?\\d+(\\.\\d+)?$')\n",
    "    isNegativeRegex = re.compile(r'^(0*[1-9]\\d*|0*\\d*\\.\\d*[1-9])$')\n",
    "    RegexSelected = isNegativeRegex\n",
    "    if not remove_negative_coefficients:\n",
    "        RegexSelected = isDigitRegex\n",
    "    for reaction in reactions:\n",
    "        rxn: ReactionEntry = reaction\n",
    "        if (verbose_output): print(rxn.reaction_string, end='')\n",
    "        if remove_bad_doi and rxn.doi in BAD_DOI: \n",
    "            if (verbose_output): print(\": REJECTED DUE TO BAD DOI\")\n",
    "            continue\n",
    "        if len(rxn.precursors) < min_precursors: \n",
    "            if (verbose_output): print(\": REJECTED DUE TO LOW PRECURSOR COUNT\")\n",
    "            continue\n",
    "        if remove_bad_target and any(target in BAD_TARGETS for target in (rxn.targets_string)):  \n",
    "            if (verbose_output): print(\": REJECTED DUE TO BAD TARGET\")\n",
    "            continue\n",
    "        if remove_bad_precursor and  any(precursor.material_formula in BAD_PRECURSORS for precursor in rxn.precursors):  \n",
    "            if (verbose_output): print(\": REJECTED DUE TO BAD PRECURSOR\")\n",
    "            continue\n",
    "        # if any([not bool(isDigitRegex.match(s.amount)) for s in rxn.reaction.left_side]):\n",
    "        #     if (verbose_output): print(\": REJECTED DUE TO UNKNOWN COEFFICIENT IN LHS\")\n",
    "        #     continue\n",
    "        # if any([not bool(isDigitRegex.match(s.amount)) for s in rxn.reaction.right_side]):\n",
    "        #     if (verbose_output): print(\": REJECTED DUE TO UNKNOWN COEFFICIENT IN RHS\")\n",
    "        #     continue \n",
    "        if remove_invalid_coefficients_multiplicities and any([not bool(RegexSelected.match(s.amount)) for s in rxn.reaction.left_side]):\n",
    "            if (verbose_output): print(\": REJECTED DUE TO INVALID COEFFICIENT IN LHS\")\n",
    "            continue\n",
    "        if remove_invalid_coefficients_multiplicities and any([not bool(RegexSelected.match(s.amount)) for s in rxn.reaction.right_side]):\n",
    "            if (verbose_output): print(\": REJECTED DUE TO INVALID COEFFICIENT IN RHS\")\n",
    "            continue\n",
    "\n",
    "        found_bad = False\n",
    "        if use_bad_list: \n",
    "            for bad in bad_list:\n",
    "                if(any(bad in target_string for target_string in rxn.targets_string)) \\\n",
    "                or any(bad in precursor.material_formula for precursor in rxn.precursors):\n",
    "                    found_bad = True\n",
    "        \n",
    "        if found_bad:  \n",
    "            if (verbose_output): print(\": REJECTED CHARACTER FROM BAD LIST\")\n",
    "            continue\n",
    "        else:\n",
    "            if (verbose_output): print(\": SELECTED\") \n",
    "            filtered_reactions.append(rxn)\n",
    "    print(\"Filtered\", len(filtered_reactions), \"reactions out of total\", len(reactions))\n",
    "    return filtered_reactions"
   ]
  },
  {
   "cell_type": "code",
   "execution_count": 20,
   "metadata": {},
   "outputs": [],
   "source": [
    "def NormalizePrecursors(reactions: list):\n",
    "    PrecursorMaterialReplacements = {}\n",
    "    for key, value in PREC_REPLACEMENTS.items():\n",
    "        PrecursorKey    = [ material for reaction in reactions for material in reaction.precursors if material.material_formula == key]\n",
    "        PrecursorValue  = [ material for reaction in reactions for material in reaction.precursors if material.material_formula == value]\n",
    "        filtered_reactions = [reaction for reaction in reactions for material in reaction.precursors if key in material.material_formula]\n",
    "        number_replacements = len(filtered_reactions)\n",
    "        if(len(PrecursorKey) > 0):\n",
    "            for rxn in filtered_reactions:\n",
    "                for prec in rxn.precursors:\n",
    "                    if prec.material_formula == PrecursorKey[0].material_formula: \n",
    "                        #print(\"replace here\")\n",
    "                        prec = PrecursorValue[0]\n",
    "                    if PrecursorKey[0].material_formula in rxn.reaction_string:\n",
    "                        rxn.reaction_string.replace(PrecursorKey[0].material_formula, PrecursorValue[0].material_formula)\n",
    "                    # TODO: You still have to replace Formula parts in rxn.reaction. Find a proposal that works.\n",
    "            PrecursorMaterialReplacements[PrecursorKey[0]] = PrecursorValue[0]\n",
    "            print(\"Processed:\", key, '=', value, \": replaced\", number_replacements, \" places\")\n",
    "        else: print(\"Skipped:\", key)\n",
    "    return reactions\n",
    "\n",
    "def RemoveDuplicates(reactions: list):\n",
    "    return reactions"
   ]
  },
  {
   "cell_type": "code",
   "execution_count": 143,
   "metadata": {},
   "outputs": [
    {
     "name": "stdout",
     "output_type": "stream",
     "text": [
      "Processed: Ce(NO3)4 = Ce(NO3)3 : replaced 23  places\n",
      "Processed: Ni(CH3COO)3 = Ni(CH3COO)2 : replaced 24  places\n",
      "Processed: Fe(NO3)2 = Fe(NO3)3 : replaced 11  places\n",
      "Skipped: Fe(NO3)\n",
      "Processed: LiCO3 = Li2CO3 : replaced 41  places\n",
      "Processed: Ba2CO3 = BaCO3 : replaced 31  places\n",
      "Processed: Cu(NO3)3 = Cu(NO3)2 : replaced 2  places\n",
      "Processed: Ca2CO3 = CaCO3 : replaced 7  places\n",
      "Skipped: CH3COONi\n",
      "Skipped: Co(NO3)\n",
      "Processed: Co(CH3COO)3 = Co(CH3COO)2 : replaced 5  places\n",
      "Skipped: Mg(CH3COO)\n",
      "Processed: Mn(NO3)3 = Mn(NO3)2 : replaced 11  places\n",
      "Processed: Mn(NO3)7 = Mn(NO3)2 : replaced 4  places\n",
      "Processed: Ni(NO3)3 = Ni(NO3)2 : replaced 15  places\n"
     ]
    },
    {
     "data": {
      "text/plain": [
       "[Formula(left_side=[FormulaPart(amount='-4', material='C'), FormulaPart(amount='2', material='C2H5OH'), FormulaPart(amount='1', material='CaSO4')], right_side=[FormulaPart(amount='1', material='CaS'), FormulaPart(amount='6', material='H2O')], element_substitution={}),\n",
       " Formula(left_side=[FormulaPart(amount='-1.625', material='C'), FormulaPart(amount='0.75', material='Dy(NO3)3'), FormulaPart(amount='0.812', material='C2H5OH'), FormulaPart(amount='0.25', material='Ce(NO3)4'), FormulaPart(amount='3.25', material='[OH-]')], right_side=[FormulaPart(amount='1', material='Ce0.25Dy0.75'), FormulaPart(amount='4.062', material='H2O'), FormulaPart(amount='3.25', material='[NO3-]')], element_substitution={}),\n",
       " Formula(left_side=[FormulaPart(amount='-1.75', material='C'), FormulaPart(amount='0.5', material='Dy(NO3)3'), FormulaPart(amount='0.875', material='C2H5OH'), FormulaPart(amount='0.5', material='Ce(NO3)4'), FormulaPart(amount='3.5', material='[OH-]')], right_side=[FormulaPart(amount='1', material='Ce0.50Dy0.50'), FormulaPart(amount='4.375', material='H2O'), FormulaPart(amount='3.5', material='[NO3-]')], element_substitution={}),\n",
       " Formula(left_side=[FormulaPart(amount='-1.875', material='C'), FormulaPart(amount='0.25', material='Dy(NO3)3'), FormulaPart(amount='0.938', material='C2H5OH'), FormulaPart(amount='0.75', material='Ce(NO3)4'), FormulaPart(amount='3.75', material='[OH-]')], right_side=[FormulaPart(amount='1', material='Ce0.75Dy0.25'), FormulaPart(amount='4.688', material='H2O'), FormulaPart(amount='3.75', material='[NO3-]')], element_substitution={}),\n",
       " Formula(left_side=[FormulaPart(amount='-4', material='C'), FormulaPart(amount='2', material='C2H5OH'), FormulaPart(amount='1', material='CaSO4')], right_side=[FormulaPart(amount='1', material='CaS'), FormulaPart(amount='6', material='H2O')], element_substitution={}),\n",
       " Formula(left_side=[FormulaPart(amount='-1.625', material='C'), FormulaPart(amount='0.75', material='Dy(NO3)3'), FormulaPart(amount='0.812', material='C2H5OH'), FormulaPart(amount='0.25', material='Ce(NO3)4'), FormulaPart(amount='3.25', material='[OH-]')], right_side=[FormulaPart(amount='1', material='Ce0.25Dy0.75'), FormulaPart(amount='4.062', material='H2O'), FormulaPart(amount='3.25', material='[NO3-]')], element_substitution={}),\n",
       " Formula(left_side=[FormulaPart(amount='-1.75', material='C'), FormulaPart(amount='0.5', material='Dy(NO3)3'), FormulaPart(amount='0.875', material='C2H5OH'), FormulaPart(amount='0.5', material='Ce(NO3)4'), FormulaPart(amount='3.5', material='[OH-]')], right_side=[FormulaPart(amount='1', material='Ce0.50Dy0.50'), FormulaPart(amount='4.375', material='H2O'), FormulaPart(amount='3.5', material='[NO3-]')], element_substitution={}),\n",
       " Formula(left_side=[FormulaPart(amount='-1.875', material='C'), FormulaPart(amount='0.25', material='Dy(NO3)3'), FormulaPart(amount='0.938', material='C2H5OH'), FormulaPart(amount='0.75', material='Ce(NO3)4'), FormulaPart(amount='3.75', material='[OH-]')], right_side=[FormulaPart(amount='1', material='Ce0.75Dy0.25'), FormulaPart(amount='4.688', material='H2O'), FormulaPart(amount='3.75', material='[NO3-]')], element_substitution={}),\n",
       " Formula(left_side=[FormulaPart(amount='-4', material='C'), FormulaPart(amount='2', material='C2H5OH'), FormulaPart(amount='1', material='CaSO4')], right_side=[FormulaPart(amount='1', material='CaS'), FormulaPart(amount='6', material='H2O')], element_substitution={}),\n",
       " Formula(left_side=[FormulaPart(amount='-1.625', material='C'), FormulaPart(amount='0.75', material='Dy(NO3)3'), FormulaPart(amount='0.812', material='C2H5OH'), FormulaPart(amount='0.25', material='Ce(NO3)4'), FormulaPart(amount='3.25', material='[OH-]')], right_side=[FormulaPart(amount='1', material='Ce0.25Dy0.75'), FormulaPart(amount='4.062', material='H2O'), FormulaPart(amount='3.25', material='[NO3-]')], element_substitution={}),\n",
       " Formula(left_side=[FormulaPart(amount='-1.75', material='C'), FormulaPart(amount='0.5', material='Dy(NO3)3'), FormulaPart(amount='0.875', material='C2H5OH'), FormulaPart(amount='0.5', material='Ce(NO3)4'), FormulaPart(amount='3.5', material='[OH-]')], right_side=[FormulaPart(amount='1', material='Ce0.50Dy0.50'), FormulaPart(amount='4.375', material='H2O'), FormulaPart(amount='3.5', material='[NO3-]')], element_substitution={}),\n",
       " Formula(left_side=[FormulaPart(amount='-1.875', material='C'), FormulaPart(amount='0.25', material='Dy(NO3)3'), FormulaPart(amount='0.938', material='C2H5OH'), FormulaPart(amount='0.75', material='Ce(NO3)4'), FormulaPart(amount='3.75', material='[OH-]')], right_side=[FormulaPart(amount='1', material='Ce0.75Dy0.25'), FormulaPart(amount='4.688', material='H2O'), FormulaPart(amount='3.75', material='[NO3-]')], element_substitution={}),\n",
       " Formula(left_side=[FormulaPart(amount='0.8', material='Ce(NO3)4·6H2O'), FormulaPart(amount='0.1', material='Sm2O3'), FormulaPart(amount='3.2', material='[OH-]'), FormulaPart(amount='0.05', material='O2')], right_side=[FormulaPart(amount='1', material='Ce0.8Sm0.2O2'), FormulaPart(amount='6.4', material='H2O'), FormulaPart(amount='3.2', material='[NO3-]')], element_substitution={}),\n",
       " Formula(left_side=[FormulaPart(amount='0.1', material='Sm(NO3)3·6H2O'), FormulaPart(amount='0.05', material='Fe(NO3)3·9H2O'), FormulaPart(amount='1', material='Ba(NO3)2'), FormulaPart(amount='0.85', material='Ce(NO3)4·6H2O'), FormulaPart(amount='5.85', material='[OH-]'), FormulaPart(amount='0.038', material='O2')], right_side=[FormulaPart(amount='1', material='BaCe0.85Sm0.1M0.05O3'), FormulaPart(amount='9.075', material='H2O'), FormulaPart(amount='5.85', material='[NO3-]')], element_substitution={'M': 'Fe'}),\n",
       " Formula(left_side=[FormulaPart(amount='0.05', material='Co(NO3)2·6H2O'), FormulaPart(amount='0.1', material='Sm(NO3)3·6H2O'), FormulaPart(amount='1', material='Ba(NO3)2'), FormulaPart(amount='0.85', material='Ce(NO3)4·6H2O'), FormulaPart(amount='5.8', material='[OH-]'), FormulaPart(amount='0.05', material='O2')], right_side=[FormulaPart(amount='1', material='BaCe0.85Sm0.1M0.05O3'), FormulaPart(amount='8.9', material='H2O'), FormulaPart(amount='5.8', material='[NO3-]')], element_substitution={'M': 'Co'}),\n",
       " Formula(left_side=[FormulaPart(amount='1.492', material='Lu2O3'), FormulaPart(amount='0.015', material='Ce(NO3)4'), FormulaPart(amount='5', material='Al(NO3)3'), FormulaPart(amount='15.06', material='[OH-]')], right_side=[FormulaPart(amount='1', material='Lu2.985Ce0.015Al5O12'), FormulaPart(amount='7.53', material='H2O'), FormulaPart(amount='15.06', material='[NO3-]'), FormulaPart(amount='0.004', material='O2')], element_substitution={}),\n",
       " Formula(left_side=[FormulaPart(amount='0.8', material='Ce(NO3)4·6H2O'), FormulaPart(amount='0.1', material='Sm2O3'), FormulaPart(amount='3.2', material='[OH-]'), FormulaPart(amount='0.05', material='O2')], right_side=[FormulaPart(amount='1', material='Ce0.8Sm0.2O2'), FormulaPart(amount='6.4', material='H2O'), FormulaPart(amount='3.2', material='[NO3-]')], element_substitution={}),\n",
       " Formula(left_side=[FormulaPart(amount='1', material='Ce(NO3)4'), FormulaPart(amount='1', material='ZrO(NO3)2'), FormulaPart(amount='6', material='[OH-]')], right_side=[FormulaPart(amount='1', material='CeO2-ZrO2'), FormulaPart(amount='3', material='H2O'), FormulaPart(amount='6', material='[NO3-]')], element_substitution={}),\n",
       " Formula(left_side=[FormulaPart(amount='0.8', material='Ce(NO3)4'), FormulaPart(amount='0.2', material='Y(NO3)3'), FormulaPart(amount='3.8', material='[OH-]')], right_side=[FormulaPart(amount='1', material='Ce0.8Y0.2O1.9'), FormulaPart(amount='1.9', material='H2O'), FormulaPart(amount='3.8', material='[NO3-]')], element_substitution={}),\n",
       " Formula(left_side=[FormulaPart(amount='0.8', material='Ce(NO3)4'), FormulaPart(amount='0.2', material='Y(NO3)3'), FormulaPart(amount='3.8', material='[OH-]')], right_side=[FormulaPart(amount='1', material='Ce0.8Y0.2O1.9'), FormulaPart(amount='1.9', material='H2O'), FormulaPart(amount='3.8', material='[NO3-]')], element_substitution={}),\n",
       " Formula(left_side=[FormulaPart(amount='1.11', material='Y2O3'), FormulaPart(amount='1.5', material='Al2O3'), FormulaPart(amount='0.375', material='Gd2O3'), FormulaPart(amount='1', material='Ga2O3'), FormulaPart(amount='0.003', material='Ce(NO3)4'), FormulaPart(amount='0.012', material='[OH-]'), FormulaPart(amount='0.02', material='O2')], right_side=[FormulaPart(amount='1', material='Y2.22Gd0.75Ce0.003Ga2Al3O12'), FormulaPart(amount='0.006', material='H2O'), FormulaPart(amount='0.012', material='[NO3-]')], element_substitution={}),\n",
       " Formula(left_side=[FormulaPart(amount='1', material='BaCO3'), FormulaPart(amount='1', material='Ce(NO3)4·6H2O'), FormulaPart(amount='4', material='[OH-]')], right_side=[FormulaPart(amount='1', material='BaCeO3'), FormulaPart(amount='1', material='CO2'), FormulaPart(amount='8', material='H2O'), FormulaPart(amount='4', material='[NO3-]')], element_substitution={}),\n",
       " Formula(left_side=[FormulaPart(amount='0.8', material='Ce(NO3)4·6H2O'), FormulaPart(amount='0.1', material='Sm2O3'), FormulaPart(amount='3.2', material='[OH-]'), FormulaPart(amount='0.05', material='O2')], right_side=[FormulaPart(amount='1', material='Ce0.8Sm0.2O2'), FormulaPart(amount='6.4', material='H2O'), FormulaPart(amount='3.2', material='[NO3-]')], element_substitution={})]"
      ]
     },
     "execution_count": 143,
     "metadata": {},
     "output_type": "execute_result"
    }
   ],
   "source": [
    "[rxn.reaction for rxn in NormalizePrecursors(reactions.copy()) if 'Ce(NO3)4' in str(rxn)]"
   ]
  },
  {
   "cell_type": "code",
   "execution_count": 21,
   "metadata": {},
   "outputs": [
    {
     "name": "stdout",
     "output_type": "stream",
     "text": [
      "Filtered 20093 reactions out of total 31782\n"
     ]
    }
   ],
   "source": [
    "filteredRxns = RemoveBadEntries(reactions, verbose_output=False)"
   ]
  },
  {
   "cell_type": "code",
   "execution_count": 22,
   "metadata": {},
   "outputs": [
    {
     "data": {
      "text/plain": [
       "[ReactionEntry(doi='10.1149/1.1383553', paragraph_string='High surface area activated carbons were obtained  <...> ce of these materials will be published elsewhere.', synthesis_type='solid-state', reaction_string='2 Li2CO3 + 5 TiO2 == 1 Li4Ti5O12 + 2 CO2', reaction=Formula(left_side=[FormulaPart(amount='5', material='TiO2'), FormulaPart(amount='2', material='Li2CO3')], right_side=[FormulaPart(amount='1', material='Li4Ti5O12'), FormulaPart(amount='2', material='CO2')], element_substitution={}), targets_string=['Li4Ti5O12'], target=Material(material_string='Li4Ti5O12', material_formula='Li4Ti5O12', material_name='', phase=None, is_acronym=False, composition=[Composition(formula='Li4Ti5O12', amount='1', elements={'Li': '4', 'Ti': '5', 'O': '12'})], amount_vars={}, element_vars={}, additives=[], oxygen_deficiency=None), precursors=[Material(material_string='TiO2', material_formula='TiO2', material_name='', phase=None, is_acronym=False, composition=[Composition(formula='TiO2', amount='1', elements={'Ti': '1', 'O': '2'})], amount_vars={}, element_vars={}, additives=[], oxygen_deficiency=None), Material(material_string='Li2CO3', material_formula='Li2CO3', material_name='', phase=None, is_acronym=False, composition=[Composition(formula='Li2CO3', amount='1', elements={'Li': '2', 'C': '1', 'O': '3'})], amount_vars={}, element_vars={}, additives=[], oxygen_deficiency=None)], operations=[Operation(type='StartingSynthesis', token='fabricated', conditions=OperationConditions(heating_temperature=None, heating_time=None, heating_atmosphere=None, mixing_device=None, mixing_media=None))]),\n",
       " ReactionEntry(doi='10.1149/1.1455647', paragraph_string='PNb9O25 was easily obtained by a solid-state react <...>  structure determination from the Rietveld method.', synthesis_type='solid-state', reaction_string='1 NH4H2PO4 + 4.5 Nb2O5 == 1 PNb9O25 + 1.5 H2O + 1 NH3', reaction=Formula(left_side=[FormulaPart(amount='4.5', material='Nb2O5'), FormulaPart(amount='1', material='NH4H2PO4')], right_side=[FormulaPart(amount='1', material='PNb9O25'), FormulaPart(amount='1.5', material='H2O'), FormulaPart(amount='1', material='NH3')], element_substitution={}), targets_string=['Nb9PO25'], target=Material(material_string='PNb9O25', material_formula='PNb9O25', material_name='', phase=None, is_acronym=False, composition=[Composition(formula='PNb9O25', amount='1', elements={'P': '1', 'Nb': '9', 'O': '25'})], amount_vars={}, element_vars={}, additives=[], oxygen_deficiency=None), precursors=[Material(material_string='Nb2O5', material_formula='Nb2O5', material_name='', phase=None, is_acronym=False, composition=[Composition(formula='Nb2O5', amount='1', elements={'Nb': '2', 'O': '5'})], amount_vars={}, element_vars={}, additives=[], oxygen_deficiency=None), Material(material_string='NH4H2PO4', material_formula='NH4H2PO4', material_name='', phase=None, is_acronym=False, composition=[Composition(formula='NH4H2PO4', amount='1', elements={'N': '1', 'H': '6', 'P': '1', 'O': '4'})], amount_vars={}, element_vars={}, additives=[], oxygen_deficiency=None)], operations=[Operation(type='HeatingOperation', token='heated', conditions=OperationConditions(heating_temperature=[OperationValue(min_value=None, max_value=350.0, values=[350.0], units='°C')], heating_time=[OperationValue(min_value=3.0, max_value=3.0, values=[3.0], units='h')], heating_atmosphere=None, mixing_device=None, mixing_media=None))]),\n",
       " ReactionEntry(doi='10.1149/1.1377593', paragraph_string='LiFexMn2-xO4 (x = 0, 0.1, 0.3, 0.5) were prepared  <...> led in cells of polymer-coated aluminum laminates.', synthesis_type='solid-state', reaction_string='x FeOOH + 1 LiOH·H2O + 2-x MnCO3 + 0.75-0.25*x O2 == 1 LiFexMn2-xO4 + 2-x CO2 + 1.5+0.5*x H2O', reaction=Formula(left_side=[FormulaPart(amount='2-x', material='MnCO3'), FormulaPart(amount='x', material='FeOOH'), FormulaPart(amount='1', material='LiOH·H2O'), FormulaPart(amount='0.75-0.25*x', material='O2')], right_side=[FormulaPart(amount='1', material='LiFexMn2-xO4'), FormulaPart(amount='2-x', material='CO2'), FormulaPart(amount='1.5+0.5*x', material='H2O')], element_substitution={}), targets_string=['LiMn2O4', 'LiMn1.9Fe0.1O4', 'LiMn1.7Fe0.3O4', 'LiMn1.5Fe0.5O4'], target=Material(material_string='LiFexMn2-xO4', material_formula='LiFexMn2-xO4', material_name='', phase=None, is_acronym=False, composition=[Composition(formula='LiFexMn2-xO4', amount='1', elements={'Li': '1', 'Fe': 'x', 'Mn': '2-x', 'O': '4'})], amount_vars={}, element_vars={}, additives=[], oxygen_deficiency=None), precursors=[Material(material_string='MnCO3', material_formula='MnCO3', material_name='', phase=None, is_acronym=False, composition=[Composition(formula='MnCO3', amount='1', elements={'Mn': '1', 'C': '1', 'O': '3'})], amount_vars={}, element_vars={}, additives=[], oxygen_deficiency=None), Material(material_string='FeOOH', material_formula='FeOOH', material_name='', phase=None, is_acronym=False, composition=[Composition(formula='FeOOH', amount='1', elements={'Fe': '1', 'O': '2', 'H': '1'})], amount_vars={}, element_vars={}, additives=[], oxygen_deficiency=None), Material(material_string='LiOH⋅H2O', material_formula='LiOH·H2O', material_name='', phase=None, is_acronym=False, composition=[Composition(formula='LiOH', amount='1', elements={'Li': '1', 'O': '1', 'H': '1'}), Composition(formula='H2O', amount='1', elements={'H': '2', 'O': '1'})], amount_vars={}, element_vars={}, additives=[], oxygen_deficiency=None)], operations=[Operation(type='StartingSynthesis', token='prepared', conditions=OperationConditions(heating_temperature=None, heating_time=None, heating_atmosphere=None, mixing_device=None, mixing_media=None)), Operation(type='MixingOperation', token='ground', conditions=OperationConditions(heating_temperature=None, heating_time=None, heating_atmosphere=None, mixing_device=None, mixing_media=None)), Operation(type='HeatingOperation', token='heated', conditions=OperationConditions(heating_temperature=[OperationValue(min_value=923.0, max_value=923.0, values=[923.0], units='K')], heating_time=[OperationValue(min_value=12.0, max_value=12.0, values=[12.0], units='h')], heating_atmosphere=None, mixing_device=None, mixing_media=None)), Operation(type='ShapingOperation', token='pressed', conditions=OperationConditions(heating_temperature=None, heating_time=None, heating_atmosphere=None, mixing_device=None, mixing_media=None)), Operation(type='HeatingOperation', token='heated', conditions=OperationConditions(heating_temperature=[OperationValue(min_value=1023.0, max_value=1023.0, values=[1023.0], units='K')], heating_time=[OperationValue(min_value=72.0, max_value=72.0, values=[72.0], units='h')], heating_atmosphere=['air'], mixing_device=None, mixing_media=None)), Operation(type='MixingOperation', token='regrinding', conditions=OperationConditions(heating_temperature=None, heating_time=None, heating_atmosphere=None, mixing_device=None, mixing_media=None)), Operation(type='HeatingOperation', token='postannealed', conditions=OperationConditions(heating_temperature=[OperationValue(min_value=873.0, max_value=873.0, values=[873.0], units='K')], heating_time=[OperationValue(min_value=72.0, max_value=72.0, values=[72.0], units='h')], heating_atmosphere=None, mixing_device=None, mixing_media=None)), Operation(type='QuenchingOperation', token='cooled', conditions=OperationConditions(heating_temperature=None, heating_time=[OperationValue(min_value=24.0, max_value=24.0, values=[24.0], units='h')], heating_atmosphere=None, mixing_device=None, mixing_media=None))]),\n",
       " ReactionEntry(doi='10.1149/1.1614797', paragraph_string='The LiNi0.95Ti0.05O2 material was prepared by empl <...> re identified by X-ray photoelectron spectroscopy.', synthesis_type='solid-state', reaction_string='1 LiOH + 0.95 Ni(OH)2 + 0.225 O2 + 0.05 TiO2 == 1 LiNi0.95Ti0.05O2 + 1.45 H2O', reaction=Formula(left_side=[FormulaPart(amount='1', material='LiOH'), FormulaPart(amount='0.95', material='Ni(OH)2'), FormulaPart(amount='0.05', material='TiO2'), FormulaPart(amount='0.225', material='O2')], right_side=[FormulaPart(amount='1', material='LiNi0.95Ti0.05O2'), FormulaPart(amount='1.45', material='H2O')], element_substitution={}), targets_string=['LiTi0.05Ni0.95O2'], target=Material(material_string='LiNi0.95Ti0.05O2', material_formula='LiNi0.95Ti0.05O2', material_name='', phase=None, is_acronym=False, composition=[Composition(formula='LiNi0.95Ti0.05O2', amount='1', elements={'Li': '1', 'Ni': '0.95', 'Ti': '0.05', 'O': '2'})], amount_vars={}, element_vars={}, additives=[], oxygen_deficiency=None), precursors=[Material(material_string='LiOH', material_formula='LiOH', material_name='', phase=None, is_acronym=False, composition=[Composition(formula='LiOH', amount='1', elements={'Li': '1', 'O': '1', 'H': '1'})], amount_vars={}, element_vars={}, additives=[], oxygen_deficiency=None), Material(material_string='Ni(OH)2', material_formula='Ni(OH)2', material_name='', phase=None, is_acronym=False, composition=[Composition(formula='Ni(OH)2', amount='1', elements={'O': '2', 'H': '2', 'Ni': '1'})], amount_vars={}, element_vars={}, additives=[], oxygen_deficiency=None), Material(material_string='TiO2', material_formula='TiO2', material_name='', phase=None, is_acronym=False, composition=[Composition(formula='TiO2', amount='1', elements={'Ti': '1', 'O': '2'})], amount_vars={}, element_vars={}, additives=[], oxygen_deficiency=None)], operations=[Operation(type='StartingSynthesis', token='prepared', conditions=OperationConditions(heating_temperature=None, heating_time=None, heating_atmosphere=None, mixing_device=None, mixing_media=None)), Operation(type='MixingOperation', token='ballmilled', conditions=OperationConditions(heating_temperature=None, heating_time=[OperationValue(min_value=24.0, max_value=24.0, values=[24.0], units='h')], heating_atmosphere=None, mixing_device=None, mixing_media=None)), Operation(type='HeatingOperation', token='calcined', conditions=OperationConditions(heating_temperature=[OperationValue(min_value=550.0, max_value=550.0, values=[550.0], units='°C')], heating_time=None, heating_atmosphere=None, mixing_device=None, mixing_media=None)), Operation(type='HeatingOperation', token='heated', conditions=OperationConditions(heating_temperature=[OperationValue(min_value=750.0, max_value=750.0, values=[750.0], units='°C')], heating_time=None, heating_atmosphere=None, mixing_device=None, mixing_media=None))]),\n",
       " ReactionEntry(doi='10.1149/1.1511190', paragraph_string='For the Y0.9Ca0.1FeO3 cathode, a combustion synthe <...> 43% as measured by the standard Archimedes method.', synthesis_type='solid-state', reaction_string='0.1 Ca(NO3)2 + 1 Fe(NO3)3·9H2O + 0.475 O2 + 0.9 Y(NO3)·6H2O + 4.1 [OH-] == 1 Y0.9Ca0.1FeO3 + 16.45 H2O + 4.1 [NO3-]', reaction=Formula(left_side=[FormulaPart(amount='0.9', material='Y(NO3)·6H2O'), FormulaPart(amount='0.1', material='Ca(NO3)2'), FormulaPart(amount='1', material='Fe(NO3)3·9H2O'), FormulaPart(amount='4.1', material='[OH-]'), FormulaPart(amount='0.475', material='O2')], right_side=[FormulaPart(amount='1', material='Y0.9Ca0.1FeO3'), FormulaPart(amount='16.45', material='H2O'), FormulaPart(amount='4.1', material='[NO3-]')], element_substitution={}), targets_string=['Ca0.1Y0.9FeO3'], target=Material(material_string='Y0.9Ca0.1FeO3', material_formula='Y0.9Ca0.1FeO3', material_name='', phase=None, is_acronym=False, composition=[Composition(formula='Y0.9Ca0.1FeO3', amount='1', elements={'Y': '0.9', 'Ca': '0.1', 'Fe': '1', 'O': '3'})], amount_vars={}, element_vars={}, additives=[], oxygen_deficiency=None), precursors=[Material(material_string='Y(NO3)⋅6H2O', material_formula='Y(NO3)·6H2O', material_name='', phase=None, is_acronym=False, composition=[Composition(formula='Y(NO3)', amount='1', elements={'N': '1', 'O': '3', 'Y': '1'}), Composition(formula='H2O', amount='6', elements={'H': '2', 'O': '1'})], amount_vars={}, element_vars={}, additives=[], oxygen_deficiency=None), Material(material_string='Ca(NO3)2', material_formula='Ca(NO3)2', material_name='', phase=None, is_acronym=False, composition=[Composition(formula='Ca(NO3)2', amount='1', elements={'N': '2', 'O': '6', 'Ca': '1'})], amount_vars={}, element_vars={}, additives=[], oxygen_deficiency=None), Material(material_string='Fe(NO3)3⋅9H2O', material_formula='Fe(NO3)3·9H2O', material_name='', phase=None, is_acronym=False, composition=[Composition(formula='Fe(NO3)3', amount='1', elements={'N': '3', 'O': '9', 'Fe': '1'}), Composition(formula='H2O', amount='9', elements={'H': '2', 'O': '1'})], amount_vars={}, element_vars={}, additives=[], oxygen_deficiency=None)], operations=[Operation(type='MixingOperation', token='added', conditions=OperationConditions(heating_temperature=None, heating_time=None, heating_atmosphere=None, mixing_device=None, mixing_media=None)), Operation(type='HeatingOperation', token='heating', conditions=OperationConditions(heating_temperature=None, heating_time=None, heating_atmosphere=None, mixing_device=None, mixing_media=None)), Operation(type='DryingOperation', token='evaporated', conditions=OperationConditions(heating_temperature=None, heating_time=None, heating_atmosphere=None, mixing_device=None, mixing_media=None)), Operation(type='HeatingOperation', token='calcined', conditions=OperationConditions(heating_temperature=[OperationValue(min_value=800.0, max_value=800.0, values=[800.0], units='°C')], heating_time=[OperationValue(min_value=2.0, max_value=2.0, values=[2.0], units='h')], heating_atmosphere=None, mixing_device=None, mixing_media=None)), Operation(type='StartingSynthesis', token='prepared', conditions=OperationConditions(heating_temperature=None, heating_time=None, heating_atmosphere=None, mixing_device=None, mixing_media=None)), Operation(type='MixingOperation', token='added', conditions=OperationConditions(heating_temperature=None, heating_time=None, heating_atmosphere=None, mixing_device=None, mixing_media=None)), Operation(type='HeatingOperation', token='sintered', conditions=OperationConditions(heating_temperature=[OperationValue(min_value=1000.0, max_value=1000.0, values=[1000.0], units='°C')], heating_time=[OperationValue(min_value=2.0, max_value=2.0, values=[2.0], units='h')], heating_atmosphere=None, mixing_device=None, mixing_media=None))])]"
      ]
     },
     "execution_count": 22,
     "metadata": {},
     "output_type": "execute_result"
    }
   ],
   "source": [
    "reactions[:5]"
   ]
  },
  {
   "cell_type": "code",
   "execution_count": 23,
   "metadata": {},
   "outputs": [
    {
     "data": {
      "text/plain": [
       "19318"
      ]
     },
     "execution_count": 23,
     "metadata": {},
     "output_type": "execute_result"
    }
   ],
   "source": [
    "from collections import defaultdict\n",
    "\n",
    "# Assuming 'reactions' is your list of ReactionEntry objects\n",
    "\n",
    "# Create a defaultdict to store entries grouped by (doi, reaction_string)\n",
    "entry_dict = defaultdict(list)\n",
    "for entry in filteredRxns:\n",
    "    entry_dict[(entry.doi, entry.reaction_string)].append(entry)\n",
    "\n",
    "# Filter out entries where there are duplicates (keep only the first occurrence)\n",
    "filtered_reactions_doi = []\n",
    "seen_keys = set()\n",
    "for entry in filteredRxns:\n",
    "    key = (entry.doi, entry.reaction_string)\n",
    "    if key not in seen_keys:\n",
    "        seen_keys.add(key)\n",
    "        filtered_reactions_doi.append(entry)\n",
    "\n",
    "# Now 'filtered_reactions' contains entries with duplicates removed based on (doi, reaction_string)\n",
    "\n",
    "len(filtered_reactions_doi)"
   ]
  },
  {
   "cell_type": "code",
   "execution_count": null,
   "metadata": {},
   "outputs": [],
   "source": [
    "# Dictionary to store entries grouped by (right_side_tuple, amount_tuple)\n",
    "duplicate_entries = defaultdict(list)\n",
    "filtered_reactions_dupForm = []\n",
    "for entry in filtered_reactions_doi:\n",
    "    # Create a tuple representation of right_side\n",
    "    right_side_tuple = tuple((part.amount, part.material) for part in entry.reaction.right_side)\n",
    "\n",
    "    # Create sets of (amount, material) tuples for target and precursors\n",
    "    target_materials = {(comp.amount, comp.formula) for comp in entry.target.composition}\n",
    "    precursor_materials =  {(mat.amount, mat.formula) for composition in (material.composition for material in reactions[0].precursors) for mat in composition}\n",
    "\n",
    "    # Create a tuple for (target materials, precursor materials)\n",
    "    materials_tuple = (frozenset(target_materials), frozenset(precursor_materials))\n",
    "\n",
    "    key = (right_side_tuple, materials_tuple)\n",
    "    duplicate_entries[key].append(entry)\n",
    "\n",
    "# Now, find and print duplicates\n",
    "seen_keys = set()\n",
    "for key, entries in duplicate_entries.items():\n",
    "    if len(entries) > 1:\n",
    "        if key not in seen_keys:\n",
    "            seen_keys.add(key)\n",
    "            filtered_reactions_dupForm.append(entry)\n",
    "        print(len(entries), \"\\tDuplicates for: \", end='')\n",
    "        print(f\"Right Side: {key[0]}\", end='')\n",
    "        print(\"Target materials:\", end='')\n",
    "        print(key[1][0], end='')\n",
    "        print(\"Precursor materials:\", end='')\n",
    "        print(key[1][1], end='')\n",
    "        print()\n",
    "        for i in range(len(entries)):\n",
    "            entry = entries[i]\n",
    "            print(\"Entry #{}: \".format(i), end='')\n",
    "            calc_operations = [op for op in entry.operations if \"calc\" in op.token]\n",
    "            print(\"No. Calcination Operations: {}, \".format(len(calc_operations)))\n",
    "            for op in calc_operations:\n",
    "                print(op)\n"
   ]
  },
  {
   "cell_type": "code",
   "execution_count": 25,
   "metadata": {},
   "outputs": [
    {
     "name": "stdout",
     "output_type": "stream",
     "text": [
      "Original Dataset Size: \t\t\t\t 31782\n",
      "1st level reduction (Revised Bad List): \t 20093\n",
      "2nd level reduction (DOIs): \t\t\t 19318\n",
      "3rd level reduction (affinity + fuzzy): \t 2962\n"
     ]
    }
   ],
   "source": [
    "print(\"Original Dataset Size: \\t\\t\\t\\t\", len(reactions))\n",
    "print(\"1st level reduction (Revised Bad List): \\t\", len(filteredRxns))\n",
    "print(\"2nd level reduction (DOIs): \\t\\t\\t\", len(filtered_reactions_doi))\n",
    "print(\"3rd level reduction (affinity + fuzzy): \\t\", len(filtered_reactions_dupForm))"
   ]
  }
 ],
 "metadata": {
  "kernelspec": {
   "display_name": "research",
   "language": "python",
   "name": "python3"
  },
  "language_info": {
   "codemirror_mode": {
    "name": "ipython",
    "version": 3
   },
   "file_extension": ".py",
   "mimetype": "text/x-python",
   "name": "python",
   "nbconvert_exporter": "python",
   "pygments_lexer": "ipython3",
   "version": "3.11.7"
  }
 },
 "nbformat": 4,
 "nbformat_minor": 2
}

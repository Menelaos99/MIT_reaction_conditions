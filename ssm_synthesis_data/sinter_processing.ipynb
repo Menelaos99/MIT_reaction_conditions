{
 "cells": [
  {
   "cell_type": "code",
   "execution_count": null,
   "metadata": {},
   "outputs": [],
   "source": [
    "import pandas as pd\n",
    "import numpy as np\n",
    "import json\n",
    "from utils.classes import *\n",
    "from utils.exclude import *\n",
    "\n",
    "filename = r'data/solid-state_dataset_20200713.json'\n",
    "filedata = open(filename, mode='r').read()\n",
    "jsonParse = json.loads(filedata)\n",
    "\n",
    "import glob\n",
    "# Define the path to the folder containing the CSV files\n",
    "folder_path = 'sinter_dataset/*.csv'\n",
    "\n",
    "# Use glob to match all csv file paths in the folder\n",
    "csv_files = glob.glob(folder_path)\n",
    "\n",
    "# Initialize an empty list to store dataframes\n",
    "dfs = []\n",
    "\n",
    "# Loop through the list of csv file paths\n",
    "for file in csv_files:\n",
    "    # Read the current csv file into a dataframe\n",
    "    df = pd.read_csv(file)\n",
    "    # Append the dataframe to the list of dataframes\n",
    "    dfs.append(df)\n",
    "\n",
    "# Concatenate all dataframes in the list into a single dataframe\n",
    "merged_df = pd.concat(dfs, ignore_index=True)\n",
    "merged_df = merged_df.groupby('formula').agg(lambda x: list(set(x))).reset_index()\n",
    "merged_df = merged_df.drop(columns=['Unnamed: 0'])\n",
    "merged_df.set_index('formula', inplace=True)\n"
   ]
  },
  {
   "cell_type": "code",
   "execution_count": null,
   "metadata": {},
   "outputs": [],
   "source": [
    "filename = r'data/solid-state_dataset_20200713.json'\n",
    "filedata = open(filename, mode='r').read()\n",
    "jsonParse = json.loads(filedata)\n",
    "\n",
    "reactions = [from_dict(reaction, ReactionEntry) for reaction in jsonParse['reactions']]"
   ]
  },
  {
   "cell_type": "code",
   "execution_count": null,
   "metadata": {},
   "outputs": [],
   "source": [
    "targets = [x.target.material_formula for x in reactions]"
   ]
  },
  {
   "cell_type": "code",
   "execution_count": null,
   "metadata": {},
   "outputs": [],
   "source": [
    "reactions[7127].target.material_formula"
   ]
  },
  {
   "cell_type": "code",
   "execution_count": null,
   "metadata": {},
   "outputs": [],
   "source": [
    "df.head()"
   ]
  },
  {
   "cell_type": "code",
   "execution_count": null,
   "metadata": {},
   "outputs": [],
   "source": [
    "for item in merged_df:\n",
    "    if item in targets:\n",
    "        targets.remove(item)"
   ]
  },
  {
   "cell_type": "code",
   "execution_count": null,
   "metadata": {},
   "outputs": [],
   "source": []
  },
  {
   "cell_type": "code",
   "execution_count": null,
   "metadata": {},
   "outputs": [],
   "source": [
    "len(targets)"
   ]
  }
 ],
 "metadata": {
  "kernelspec": {
   "display_name": "Python 3",
   "language": "python",
   "name": "python3"
  },
  "language_info": {
   "codemirror_mode": {
    "name": "ipython",
    "version": 3
   },
   "file_extension": ".py",
   "mimetype": "text/x-python",
   "name": "python",
   "nbconvert_exporter": "python",
   "pygments_lexer": "ipython3",
   "version": "3.11.9"
  }
 },
 "nbformat": 4,
 "nbformat_minor": 2
}
